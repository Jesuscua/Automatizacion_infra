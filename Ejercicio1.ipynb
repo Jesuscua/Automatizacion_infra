{
  "nbformat": 4,
  "nbformat_minor": 0,
  "metadata": {
    "colab": {
      "name": "Untitled0.ipynb",
      "provenance": [],
      "authorship_tag": "ABX9TyP6agrYUOOCrMr7I/JyWfzQ",
      "include_colab_link": true
    },
    "kernelspec": {
      "name": "python3",
      "display_name": "Python 3"
    },
    "language_info": {
      "name": "python"
    }
  },
  "cells": [
    {
      "cell_type": "markdown",
      "metadata": {
        "id": "view-in-github",
        "colab_type": "text"
      },
      "source": [
        "<a href=\"https://colab.research.google.com/github/Jesuscua/Automatizacion_infra/blob/main/Ejercicio1.ipynb\" target=\"_parent\"><img src=\"https://colab.research.google.com/assets/colab-badge.svg\" alt=\"Open In Colab\"/></a>"
      ]
    },
    {
      "cell_type": "markdown",
      "metadata": {
        "id": "wKpSemmy_5br"
      },
      "source": [
        "Ejercicio 1: \n",
        "\n",
        "Escribir una función que calcule el total de una factura tras aplicarle el IVA. La función debe recibir la cantidad sin IVA y el porcentaje de IVA a aplicar, y devolver el total de la factura. Si se invoca la función sin pasarle el porcentaje de IVA, deberá aplicar un 21%"
      ]
    },
    {
      "cell_type": "code",
      "metadata": {
        "colab": {
          "base_uri": "https://localhost:8080/"
        },
        "id": "XitcqfnQAJjx",
        "outputId": "9c88b4d9-ef7a-433d-be06-4afbdb88de66"
      },
      "source": [
        "#Se debe definir la función que realiza la factura\n",
        "def iva(monto, porcentaje = 21):\n",
        "#Operaación\n",
        "    resultado = monto + (monto*(porcentaje/100))\n",
        "    return resultado\n",
        "\n",
        "# Sin IVA\n",
        "print(\"La factura sin un IVA definido es: \" + str(iva(5000)))\n",
        "\n",
        "#Con IVA\n",
        "print(\"La factura con un IVA definido es: \" + str(iva(5000,30)))"
      ],
      "execution_count": 5,
      "outputs": [
        {
          "output_type": "stream",
          "text": [
            "La factura sin un IVA definido es: 6050.0\n",
            "La factura con un IVA definido es: 6500.0\n"
          ],
          "name": "stdout"
        }
      ]
    },
    {
      "cell_type": "code",
      "metadata": {
        "id": "j0r5aLb5BM8f"
      },
      "source": [
        ""
      ],
      "execution_count": null,
      "outputs": []
    }
  ]
}