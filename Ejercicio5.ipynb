{
  "nbformat": 4,
  "nbformat_minor": 0,
  "metadata": {
    "colab": {
      "name": "Ejercicio5.ipynb",
      "provenance": [],
      "authorship_tag": "ABX9TyO1Pxz0NBTkeNhJLSPrC1bj",
      "include_colab_link": true
    },
    "kernelspec": {
      "name": "python3",
      "display_name": "Python 3"
    },
    "language_info": {
      "name": "python"
    }
  },
  "cells": [
    {
      "cell_type": "markdown",
      "metadata": {
        "id": "view-in-github",
        "colab_type": "text"
      },
      "source": [
        "<a href=\"https://colab.research.google.com/github/Jesuscua/Automatizacion_infra/blob/main/Ejercicio5.ipynb\" target=\"_parent\"><img src=\"https://colab.research.google.com/assets/colab-badge.svg\" alt=\"Open In Colab\"/></a>"
      ]
    },
    {
      "cell_type": "markdown",
      "metadata": {
        "id": "-dKiAW7nG3g0"
      },
      "source": [
        "Ejercicio 5:\n",
        "\n",
        "Escribir una función que reciba una muestra de números en una lista y devuelva un diccionario con su media, varianza y desviación típica"
      ]
    },
    {
      "cell_type": "code",
      "metadata": {
        "colab": {
          "base_uri": "https://localhost:8080/"
        },
        "id": "MezT6mAGG2DB",
        "outputId": "a4811a23-3665-4ab1-dde1-77983466a171"
      },
      "source": [
        "#Listas\n",
        "list1 = [100,300,123,24,85,40]\n",
        "list2 = [77,367,163,742,479]\n",
        "list3 = [57,456,198,253,79,31,58]\n",
        "\n",
        "#funcion\n",
        "def media_varianza_desviacion(lista):\n",
        "  \n",
        "#Diccionario y Lista de cuadrados\n",
        "  diccionario = {}\n",
        "    \n",
        "#Media\n",
        "  diccionario['Media'] = sum(lista) / len(lista)\n",
        "\n",
        "#Cuadrados\n",
        "  cuadrado = []\n",
        "  for cont in lista:\n",
        "      cuadrado.append(cont**2)\n",
        "#Varianza\n",
        "  diccionario['Varianza'] = (sum(cuadrado) / len(lista)) - diccionario['Media']**2\n",
        "\n",
        "#Desviación\n",
        "  diccionario['Desviacion tipica'] = diccionario['Varianza']**0.5\n",
        "\n",
        "#Redondeo de resultados\n",
        "  diccionario['Media'] = round(diccionario['Media'],2)\n",
        "  diccionario['Varianza'] = round(diccionario['Varianza'],2)\n",
        "  diccionario['Desviacion tipica'] = round(diccionario['Desviacion tipica'],2)\n",
        "  return diccionario\n",
        "\n",
        "# Se imprime el resultado de las 3 listas definidas\n",
        "print(\"El diccionario 1: \" + str(media_varianza_desviacion(list1)))\n",
        "print(\"El diccionario 2: \" + str(media_varianza_desviacion(list2)))\n",
        "print(\"El diccionario 3: \" + str(media_varianza_desviacion(list3)))"
      ],
      "execution_count": 6,
      "outputs": [
        {
          "output_type": "stream",
          "text": [
            "El diccionario 1: {'Media': 112.0, 'Varianza': 8211.0, 'Desviacion tipica': 90.61}\n",
            "El diccionario 2: {'Media': 365.6, 'Varianza': 55775.04, 'Desviacion tipica': 236.17}\n",
            "El diccionario 3: {'Media': 161.71, 'Varianza': 20271.92, 'Desviacion tipica': 142.38}\n"
          ],
          "name": "stdout"
        }
      ]
    },
    {
      "cell_type": "code",
      "metadata": {
        "id": "-VNCjZB-NdRt"
      },
      "source": [
        ""
      ],
      "execution_count": null,
      "outputs": []
    }
  ]
}