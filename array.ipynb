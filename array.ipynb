{
  "nbformat": 4,
  "nbformat_minor": 0,
  "metadata": {
    "colab": {
      "name": "array.ipynb",
      "provenance": [],
      "authorship_tag": "ABX9TyMyh3qVwKoePamDAmCbcVBa",
      "include_colab_link": true
    },
    "kernelspec": {
      "name": "python3",
      "display_name": "Python 3"
    },
    "language_info": {
      "name": "python"
    }
  },
  "cells": [
    {
      "cell_type": "markdown",
      "metadata": {
        "id": "view-in-github",
        "colab_type": "text"
      },
      "source": [
        "<a href=\"https://colab.research.google.com/github/Jesuscua/Automatizacion_infra/blob/main/array.ipynb\" target=\"_parent\"><img src=\"https://colab.research.google.com/assets/colab-badge.svg\" alt=\"Open In Colab\"/></a>"
      ]
    },
    {
      "cell_type": "markdown",
      "metadata": {
        "id": "Aa5DgE4YkBCm"
      },
      "source": [
        "##Acceso a los elementos de un array"
      ]
    },
    {
      "cell_type": "code",
      "metadata": {
        "colab": {
          "base_uri": "https://localhost:8080/"
        },
        "id": "XOaZdJvpjXV3",
        "outputId": "ece57ada-daea-4799-f6fb-8c8fca3576d0"
      },
      "source": [
        "import numpy as np\n",
        "a=np.array([[1, 2, 3], [4, 5, 6]])\n",
        "#Acceso al elemento de la fila 1 columna 0\n",
        "print(a[1, 0])"
      ],
      "execution_count": 3,
      "outputs": [
        {
          "output_type": "stream",
          "text": [
            "4\n"
          ],
          "name": "stdout"
        }
      ]
    },
    {
      "cell_type": "code",
      "metadata": {
        "colab": {
          "base_uri": "https://localhost:8080/"
        },
        "id": "4lDfJo90jcLS",
        "outputId": "53189bb8-1c0e-4a3a-d853-28c411987742"
      },
      "source": [
        "#Otra forma de acceder al mismo elemento\n",
        "print(a[1][0])"
      ],
      "execution_count": 4,
      "outputs": [
        {
          "output_type": "stream",
          "text": [
            "4\n"
          ],
          "name": "stdout"
        }
      ]
    },
    {
      "cell_type": "code",
      "metadata": {
        "colab": {
          "base_uri": "https://localhost:8080/"
        },
        "id": "pLQfnn2Oj1jj",
        "outputId": "18e8a833-bd3c-404e-8711-bb8570164582"
      },
      "source": [
        "print(a[:, 0:2])"
      ],
      "execution_count": 5,
      "outputs": [
        {
          "output_type": "stream",
          "text": [
            "[[1 2]\n",
            " [4 5]]\n"
          ],
          "name": "stdout"
        }
      ]
    },
    {
      "cell_type": "markdown",
      "metadata": {
        "id": "pXsPcsC8kHK1"
      },
      "source": [
        "##Filtrado de elementos de un array"
      ]
    },
    {
      "cell_type": "code",
      "metadata": {
        "colab": {
          "base_uri": "https://localhost:8080/"
        },
        "id": "1G2fukQ2j5En",
        "outputId": "4b0f23b7-e972-4bbb-b7f6-fac0debb8550"
      },
      "source": [
        "a=np.array([[1, 2, 3], [4, 5, 6]])\n",
        "print(a[(a% 3 <= 1)])"
      ],
      "execution_count": 14,
      "outputs": [
        {
          "output_type": "stream",
          "text": [
            "[1 3 4 6]\n"
          ],
          "name": "stdout"
        }
      ]
    },
    {
      "cell_type": "code",
      "metadata": {
        "colab": {
          "base_uri": "https://localhost:8080/"
        },
        "id": "MA8vDwNwkOJU",
        "outputId": "afb73f78-c37a-4a94-f320-99acae0553e3"
      },
      "source": [
        "print(a[(a% 5 == 2) &  (a> 1)])"
      ],
      "execution_count": 23,
      "outputs": [
        {
          "output_type": "stream",
          "text": [
            "[2]\n"
          ],
          "name": "stdout"
        }
      ]
    },
    {
      "cell_type": "markdown",
      "metadata": {
        "id": "9-VsyscLlwdI"
      },
      "source": [
        "##Operaciones matemáticas con arrays"
      ]
    },
    {
      "cell_type": "code",
      "metadata": {
        "colab": {
          "base_uri": "https://localhost:8080/"
        },
        "id": "J9544On1kUqp",
        "outputId": "9bbae61d-dd53-43f5-ce4f-2efe2b3d5310"
      },
      "source": [
        "a=np.array([[1, 2, 3], [4, 5, 6]])\n",
        "b=np.array([[1, 1, 1], [2, 2, 2]])\n",
        "print(a+b)"
      ],
      "execution_count": 9,
      "outputs": [
        {
          "output_type": "stream",
          "text": [
            "[[2 3 4]\n",
            " [6 7 8]]\n"
          ],
          "name": "stdout"
        }
      ]
    },
    {
      "cell_type": "code",
      "metadata": {
        "colab": {
          "base_uri": "https://localhost:8080/"
        },
        "id": "RUWFWx9xl8sM",
        "outputId": "4e2978b8-4a64-4da3-e937-67ed78292bb7"
      },
      "source": [
        "print(a/b)"
      ],
      "execution_count": 10,
      "outputs": [
        {
          "output_type": "stream",
          "text": [
            "[[1.  2.  3. ]\n",
            " [2.  2.5 3. ]]\n"
          ],
          "name": "stdout"
        }
      ]
    },
    {
      "cell_type": "code",
      "metadata": {
        "colab": {
          "base_uri": "https://localhost:8080/"
        },
        "id": "UMl_o86xl_Tc",
        "outputId": "25d05d9c-16d7-41aa-93ba-821e22d4c193"
      },
      "source": [
        "print(a** 2)"
      ],
      "execution_count": 11,
      "outputs": [
        {
          "output_type": "stream",
          "text": [
            "[[ 1  4  9]\n",
            " [16 25 36]]\n"
          ],
          "name": "stdout"
        }
      ]
    },
    {
      "cell_type": "markdown",
      "metadata": {
        "id": "-NbeklzPsChl"
      },
      "source": [
        "##Operaciones matemáticas a nivel de array"
      ]
    },
    {
      "cell_type": "code",
      "metadata": {
        "colab": {
          "base_uri": "https://localhost:8080/"
        },
        "id": "uE-55WFJmB4I",
        "outputId": "aeadfa0f-5556-43ea-ad6b-fa16d709e926"
      },
      "source": [
        "a=np.array([[1, 2, 3], [4, 5, 6]])\n",
        "b=np.array([[1, 1], [2, 2], [3, 3]])\n",
        "print(a.dot(b))"
      ],
      "execution_count": 25,
      "outputs": [
        {
          "output_type": "stream",
          "text": [
            "[[14 14]\n",
            " [32 32]]\n"
          ],
          "name": "stdout"
        }
      ]
    },
    {
      "cell_type": "code",
      "metadata": {
        "colab": {
          "base_uri": "https://localhost:8080/"
        },
        "id": "t86T3A0AsHCv",
        "outputId": "ebc25c85-674f-4f5b-be08-0c0676fb810d"
      },
      "source": [
        "print(a.T)"
      ],
      "execution_count": 26,
      "outputs": [
        {
          "output_type": "stream",
          "text": [
            "[[1 4]\n",
            " [2 5]\n",
            " [3 6]]\n"
          ],
          "name": "stdout"
        }
      ]
    },
    {
      "cell_type": "code",
      "metadata": {
        "id": "28Dmp2W-sSqk"
      },
      "source": [
        ""
      ],
      "execution_count": null,
      "outputs": []
    }
  ]
}