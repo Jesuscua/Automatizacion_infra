{
  "nbformat": 4,
  "nbformat_minor": 0,
  "metadata": {
    "colab": {
      "name": "Ejercicio3.ipynb",
      "provenance": [],
      "authorship_tag": "ABX9TyP8JCI7tksasyBX5BjutWX5",
      "include_colab_link": true
    },
    "kernelspec": {
      "name": "python3",
      "display_name": "Python 3"
    },
    "language_info": {
      "name": "python"
    }
  },
  "cells": [
    {
      "cell_type": "markdown",
      "metadata": {
        "id": "view-in-github",
        "colab_type": "text"
      },
      "source": [
        "<a href=\"https://colab.research.google.com/github/Jesuscua/Automatizacion_infra/blob/main/Ejercicio3.ipynb\" target=\"_parent\"><img src=\"https://colab.research.google.com/assets/colab-badge.svg\" alt=\"Open In Colab\"/></a>"
      ]
    },
    {
      "cell_type": "markdown",
      "metadata": {
        "id": "hddaj17pEiTb"
      },
      "source": [
        "Ejercicio 3:\n",
        "\n",
        "Escribir una función que reciba una muestra de números en una lista y devuelva su media"
      ]
    },
    {
      "cell_type": "code",
      "metadata": {
        "colab": {
          "base_uri": "https://localhost:8080/"
        },
        "id": "OD-alcrjEcod",
        "outputId": "2d5745c4-7399-4e50-cce4-61b028b3421d"
      },
      "source": [
        "#Se crean las listas\n",
        "list1 = [100,300,123,24,85,40]\n",
        "list2 = [77,367,163,742,479]\n",
        "list3 = [57,456,198,253,79,31,58]\n",
        "\n",
        "#Funciones\n",
        "def media(list):\n",
        "#Operaciones\n",
        "  resultado = sum(list) / len(list)\n",
        "  return resultado\n",
        "\n",
        "#Resultados\n",
        "print(\"La media de la lista 1 es: \" + str(media(list1)))\n",
        "print(\"La media de la lista 2 es: \" + str(media(list2)))\n",
        "print(\"La media de la lista 3 es: \" + str(media(list3)))"
      ],
      "execution_count": 1,
      "outputs": [
        {
          "output_type": "stream",
          "text": [
            "La media de la lista 1 es: 112.0\n",
            "La media de la lista 2 es: 365.6\n",
            "La media de la lista 3 es: 161.71428571428572\n"
          ],
          "name": "stdout"
        }
      ]
    },
    {
      "cell_type": "code",
      "metadata": {
        "id": "xWMeq_JGFY2V"
      },
      "source": [
        ""
      ],
      "execution_count": null,
      "outputs": []
    }
  ]
}