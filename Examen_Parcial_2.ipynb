{
  "nbformat": 4,
  "nbformat_minor": 0,
  "metadata": {
    "colab": {
      "name": "Examen Parcial 2.ipynb",
      "provenance": [],
      "authorship_tag": "ABX9TyPCRL0X9BKflkvoaXV4p/EO",
      "include_colab_link": true
    },
    "kernelspec": {
      "name": "python3",
      "display_name": "Python 3"
    },
    "language_info": {
      "name": "python"
    }
  },
  "cells": [
    {
      "cell_type": "markdown",
      "metadata": {
        "id": "view-in-github",
        "colab_type": "text"
      },
      "source": [
        "<a href=\"https://colab.research.google.com/github/Jesuscua/Automatizacion_infra/blob/main/Examen_Parcial_2.ipynb\" target=\"_parent\"><img src=\"https://colab.research.google.com/assets/colab-badge.svg\" alt=\"Open In Colab\"/></a>"
      ]
    },
    {
      "cell_type": "code",
      "metadata": {
        "colab": {
          "base_uri": "https://localhost:8080/"
        },
        "id": "c-86svITAu5t",
        "outputId": "91b51a2c-7444-45cd-8040-cd74537e6446"
      },
      "source": [
        "#Importación de pandas\n",
        "import pandas as pd\n",
        "import matplotlib.pyplot as plt\n",
        "#Creación de los datos\n",
        "datos = {'Nombre':['Juan', 'Martha', 'Pedro', 'Jorge', 'Blas', 'Lisa', 'Antonio'], 'Edad':[23, 78, 22, 19,45,33,20],\n",
        "         'Genero':['M', 'F', 'M', 'M', 'M', 'F', 'M'],'Provincia':['Burgos', 'Madrid', 'Toledo', 'Madrid', 'Toledo', 'Burgos', 'Madrid'],\n",
        "         'Hijos': [2, 0, 0, 3, 2, 1, 4],'Mascotas': [5, 1, 0, 5, 2, 2, 3]}\n",
        "#Creación del data frame\n",
        "resultado = pd.DataFrame(datos) \n",
        "print(resultado)"
      ],
      "execution_count": 11,
      "outputs": [
        {
          "output_type": "stream",
          "text": [
            "    Nombre  Edad Genero Provincia  Hijos  Mascotas\n",
            "0     Juan    23      M    Burgos      2         5\n",
            "1   Martha    78      F    Madrid      0         1\n",
            "2    Pedro    22      M    Toledo      0         0\n",
            "3    Jorge    19      M    Madrid      3         5\n",
            "4     Blas    45      M    Toledo      2         2\n",
            "5     Lisa    33      F    Burgos      1         2\n",
            "6  Antonio    20      M    Madrid      4         3\n"
          ],
          "name": "stdout"
        }
      ]
    },
    {
      "cell_type": "code",
      "metadata": {
        "colab": {
          "base_uri": "https://localhost:8080/"
        },
        "id": "S7MAtN0CBfXu",
        "outputId": "008dc8a5-ec75-4878-cb7a-81cc3235537c"
      },
      "source": [
        "#Información básica\n",
        "print(resultado.info())"
      ],
      "execution_count": 13,
      "outputs": [
        {
          "output_type": "stream",
          "text": [
            "<class 'pandas.core.frame.DataFrame'>\n",
            "RangeIndex: 7 entries, 0 to 6\n",
            "Data columns (total 6 columns):\n",
            " #   Column     Non-Null Count  Dtype \n",
            "---  ------     --------------  ----- \n",
            " 0   Nombre     7 non-null      object\n",
            " 1   Edad       7 non-null      int64 \n",
            " 2   Genero     7 non-null      object\n",
            " 3   Provincia  7 non-null      object\n",
            " 4   Hijos      7 non-null      int64 \n",
            " 5   Mascotas   7 non-null      int64 \n",
            "dtypes: int64(3), object(3)\n",
            "memory usage: 464.0+ bytes\n",
            "None\n"
          ],
          "name": "stdout"
        }
      ]
    },
    {
      "cell_type": "code",
      "metadata": {
        "colab": {
          "base_uri": "https://localhost:8080/"
        },
        "id": "H4gkAsg7EZR_",
        "outputId": "73fa25ef-1195-4076-ee91-d94e0283e473"
      },
      "source": [
        "#Obtener los principales estadísticos de las columnas numéricas.\n",
        "print(resultado.describe())"
      ],
      "execution_count": 15,
      "outputs": [
        {
          "output_type": "stream",
          "text": [
            "            Edad     Hijos  Mascotas\n",
            "count   7.000000  7.000000  7.000000\n",
            "mean   34.285714  1.714286  2.571429\n",
            "std    21.383126  1.496026  1.902379\n",
            "min    19.000000  0.000000  0.000000\n",
            "25%    21.000000  0.500000  1.500000\n",
            "50%    23.000000  2.000000  2.000000\n",
            "75%    39.000000  2.500000  4.000000\n",
            "max    78.000000  4.000000  5.000000\n"
          ],
          "name": "stdout"
        }
      ]
    },
    {
      "cell_type": "code",
      "metadata": {
        "colab": {
          "base_uri": "https://localhost:8080/"
        },
        "id": "JeesyeqxE1xS",
        "outputId": "cfa05c72-80c9-41aa-bab4-897b4f377ad9"
      },
      "source": [
        "#Obtener los porcentajes de hombres y mujeres por provincias\n",
        "print(resultado.groupby('Provincia').Genero.value_counts(normalize = True) * 100)"
      ],
      "execution_count": 18,
      "outputs": [
        {
          "output_type": "stream",
          "text": [
            "Provincia  Genero\n",
            "Burgos     F          50.000000\n",
            "           M          50.000000\n",
            "Madrid     M          66.666667\n",
            "           F          33.333333\n",
            "Toledo     M         100.000000\n",
            "Name: Genero, dtype: float64\n"
          ],
          "name": "stdout"
        }
      ]
    },
    {
      "cell_type": "code",
      "metadata": {
        "colab": {
          "base_uri": "https://localhost:8080/",
          "height": 279
        },
        "id": "yV2MEkxIE_pe",
        "outputId": "60b0bbdb-3b66-4e77-9d07-90f2cd49e959"
      },
      "source": [
        "#Representar, mediante un diagrama de dispersión, en número de hijos frente al número de mascotas para las personas de Madrid.\n",
        "fig, ax = plt.subplots()\n",
        "resultado[resultado.Provincia == 'Madrid'].plot(kind = 'scatter', x = 'Hijos', y = 'Mascotas', ax = ax)\n",
        "plt.show()"
      ],
      "execution_count": 20,
      "outputs": [
        {
          "output_type": "display_data",
          "data": {
            "image/png": "[encoded data removed]",
            "text/plain": [
              "<Figure size 432x288 with 1 Axes>"
            ]
          },
          "metadata": {
            "tags": [],
            "needs_background": "light"
          }
        }
      ]
    },
    {
      "cell_type": "code",
      "metadata": {
        "colab": {
          "base_uri": "https://localhost:8080/",
          "height": 320
        },
        "id": "vusuL6yiFY0k",
        "outputId": "15e4f572-68c2-4b67-ce3b-717815a407ea"
      },
      "source": [
        "#Realizar la siguiente gráfica.\n",
        "fig, ax = plt.subplots()\n",
        "resultado.groupby('Provincia').size().plot(kind = 'bar')\n",
        "plt.title('Distribución de frecuencias por provincia')\n",
        "plt.show()"
      ],
      "execution_count": 22,
      "outputs": [
        {
          "output_type": "display_data",
          "data": {
            "image/png": "[encoded data removed]",
            "text/plain": [
              "<Figure size 432x288 with 1 Axes>"
            ]
          },
          "metadata": {
            "tags": [],
            "needs_background": "light"
          }
        }
      ]
    },
    {
      "cell_type": "code",
      "metadata": {
        "id": "2Oain3ZtFsE7"
      },
      "source": [
        ""
      ],
      "execution_count": null,
      "outputs": []
    }
  ]
}