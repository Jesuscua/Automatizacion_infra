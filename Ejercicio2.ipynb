{
  "nbformat": 4,
  "nbformat_minor": 0,
  "metadata": {
    "colab": {
      "name": "Ejercicio2.ipynb",
      "provenance": [],
      "authorship_tag": "ABX9TyMKdIZdHgTGq0qIXZdcEnov",
      "include_colab_link": true
    },
    "kernelspec": {
      "name": "python3",
      "display_name": "Python 3"
    },
    "language_info": {
      "name": "python"
    }
  },
  "cells": [
    {
      "cell_type": "markdown",
      "metadata": {
        "id": "view-in-github",
        "colab_type": "text"
      },
      "source": [
        "<a href=\"https://colab.research.google.com/github/Jesuscua/Automatizacion_infra/blob/main/Ejercicio2.ipynb\" target=\"_parent\"><img src=\"https://colab.research.google.com/assets/colab-badge.svg\" alt=\"Open In Colab\"/></a>"
      ]
    },
    {
      "cell_type": "markdown",
      "metadata": {
        "id": "fEmf0CjECd1Z"
      },
      "source": [
        " Ejercicio 2:\n",
        "\n",
        " Escribir una función que calcule el área de un círculo y otra que calcule el volumen de un cilindro usando la primera función"
      ]
    },
    {
      "cell_type": "code",
      "metadata": {
        "colab": {
          "base_uri": "https://localhost:8080/"
        },
        "id": "tZrgjso2CaEE",
        "outputId": "2bc35f8d-3105-4a16-9719-54ea967f6597"
      },
      "source": [
        "#Definición de variable\n",
        "pi = 3.14\n",
        "\n",
        "#Funciones\n",
        "def acirculo(radio):\n",
        "  resultado = pi * (radio**2)\n",
        "  return resultado\n",
        "\n",
        "def vcilindro(radio,altura):\n",
        "  resultado = acirculo(radio) * altura\n",
        "  return resultado\n",
        "\n",
        "#Resultados\n",
        "print(\"El área del círculo es: \" + str(acirculo(4)))\n",
        "print(\"El volumen del cílindro es: \" + str(vcilindro(3,4)))\n"
      ],
      "execution_count": 3,
      "outputs": [
        {
          "output_type": "stream",
          "text": [
            "El área del círculo es: 50.24\n",
            "El volumen del cílindro es: 113.04\n"
          ],
          "name": "stdout"
        }
      ]
    },
    {
      "cell_type": "code",
      "metadata": {
        "id": "X_zP1_82DqBL"
      },
      "source": [
        ""
      ],
      "execution_count": null,
      "outputs": []
    }
  ]
}