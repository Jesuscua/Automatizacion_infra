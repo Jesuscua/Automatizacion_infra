{
  "nbformat": 4,
  "nbformat_minor": 0,
  "metadata": {
    "colab": {
      "name": "Ejercicio5.ipynb",
      "provenance": [],
      "authorship_tag": "ABX9TyOU14FfRbM09gIlGt+WCkHR",
      "include_colab_link": true
    },
    "kernelspec": {
      "name": "python3",
      "display_name": "Python 3"
    },
    "language_info": {
      "name": "python"
    }
  },
  "cells": [
    {
      "cell_type": "markdown",
      "metadata": {
        "id": "view-in-github",
        "colab_type": "text"
      },
      "source": [
        "<a href=\"https://colab.research.google.com/github/Jesuscua/Automatizacion_infra/blob/main/AID-P2-T2-Ejercicios%20en%20python/Ejercicio5.ipynb\" target=\"_parent\"><img src=\"https://colab.research.google.com/assets/colab-badge.svg\" alt=\"Open In Colab\"/></a>"
      ]
    },
    {
      "cell_type": "markdown",
      "metadata": {
        "id": "Jbgqh938mhtO"
      },
      "source": [
        "Ejercicio 5.\n",
        "\n",
        "Escribir una función que simule una calculadora científica que permita calcular el seno, coseno, tangente, exponencial y logaritmo neperiano. La función preguntará al usuario el valor y la función a aplicar, y mostrará por pantalla una tabla con los enteros de 1 al valor introducido y el resultado de aplicar la función a esos enteros."
      ]
    },
    {
      "cell_type": "code",
      "metadata": {
        "colab": {
          "base_uri": "https://localhost:8080/"
        },
        "id": "k131YrckmXcc",
        "outputId": "fee040e7-1ec5-4508-caf2-048733ef5c8d"
      },
      "source": [
        "#Importamos las funciones de la  calculadora\n",
        "from math import sin, cos, tan, exp, log\n",
        "#Definir funcion\n",
        "def funcion(f, n):\n",
        "    functions = {'sin':sin, 'cos':cos, 'tan':tan, 'exp':exp, 'log':log}\n",
        "    resultado = {}\n",
        "    for i in range(1, n+1):\n",
        "        resultado[i] = functions[f](i)\n",
        "    return resultado\n",
        "#Funcion de calculadora\n",
        "def calculadora():\n",
        "    n = int(input('Escribe un numero: '))\n",
        "    f = input('Elija una función (sin, cos, tan, exp, log): ')\n",
        "    for i, j in funcion(f, n).items():\n",
        "        print (i, '\\t', j)\n",
        "    return\n",
        "#Llamar a la funcion\n",
        "calculadora()"
      ],
      "execution_count": 3,
      "outputs": [
        {
          "output_type": "stream",
          "text": [
            "Escribe un numero: 9\n",
            "Elija una función (sin, cos, tan, exp, log): log\n",
            "1 \t 0.0\n",
            "2 \t 0.6931471805599453\n",
            "3 \t 1.0986122886681098\n",
            "4 \t 1.3862943611198906\n",
            "5 \t 1.6094379124341003\n",
            "6 \t 1.791759469228055\n",
            "7 \t 1.9459101490553132\n",
            "8 \t 2.0794415416798357\n",
            "9 \t 2.1972245773362196\n"
          ],
          "name": "stdout"
        }
      ]
    },
    {
      "cell_type": "code",
      "metadata": {
        "id": "FTDQlf9Am8lE"
      },
      "source": [
        ""
      ],
      "execution_count": null,
      "outputs": []
    }
  ]
}