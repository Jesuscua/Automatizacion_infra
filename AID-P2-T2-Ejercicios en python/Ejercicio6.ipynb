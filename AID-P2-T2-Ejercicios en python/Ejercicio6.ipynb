{
  "nbformat": 4,
  "nbformat_minor": 0,
  "metadata": {
    "colab": {
      "name": "Ejercicio6.ipynb",
      "provenance": [],
      "authorship_tag": "ABX9TyMBvdZ5fd8sQLnx9ui/tsHO",
      "include_colab_link": true
    },
    "kernelspec": {
      "name": "python3",
      "display_name": "Python 3"
    },
    "language_info": {
      "name": "python"
    }
  },
  "cells": [
    {
      "cell_type": "markdown",
      "metadata": {
        "id": "view-in-github",
        "colab_type": "text"
      },
      "source": [
        "<a href=\"https://colab.research.google.com/github/Jesuscua/Automatizacion_infra/blob/main/AID-P2-T2-Ejercicios%20en%20python/Ejercicio6.ipynb\" target=\"_parent\"><img src=\"https://colab.research.google.com/assets/colab-badge.svg\" alt=\"Open In Colab\"/></a>"
      ]
    },
    {
      "cell_type": "markdown",
      "metadata": {
        "id": "BNlk_j_5n8YQ"
      },
      "source": [
        "Ejercicio 6.\n",
        "\n",
        "Escribir una función reciba una lista de notas y devuelva la lista de calificaciones correspondientes a esas notas."
      ]
    },
    {
      "cell_type": "code",
      "metadata": {
        "colab": {
          "base_uri": "https://localhost:8080/"
        },
        "id": "JGygu4Qen3Z1",
        "outputId": "20e98b42-4013-4f35-ad15-ab8894433bcf"
      },
      "source": [
        "#Definir funcion\n",
        "def funcion(punto):\n",
        "    \n",
        "    if punto < 5:\n",
        "        return 'Reprobado'\n",
        "    elif punto < 7:\n",
        "        return 'Aprobado'\n",
        "    elif punto < 9:\n",
        "        return 'Bien'\n",
        "    elif punto < 10:\n",
        "        return 'Muy Bien'\n",
        "    else:\n",
        "        return 'Excelente'\n",
        "#Funcion para pedir valor y retornar resultado\n",
        "def apli(puntos):\n",
        "   \n",
        "    return list(map(funcion, puntos))\n",
        "puntos = int(input(\"Ingresa un valor real entre 0 y 10: \"))\n",
        "print(apli([puntos]))"
      ],
      "execution_count": 13,
      "outputs": [
        {
          "output_type": "stream",
          "text": [
            "Ingresa un valor real entre 0 y 10: 9\n",
            "['Muy Bien']\n"
          ],
          "name": "stdout"
        }
      ]
    },
    {
      "cell_type": "code",
      "metadata": {
        "id": "hTSxiHn9oFph"
      },
      "source": [
        ""
      ],
      "execution_count": 11,
      "outputs": []
    }
  ]
}