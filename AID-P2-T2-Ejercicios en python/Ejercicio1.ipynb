{
  "nbformat": 4,
  "nbformat_minor": 0,
  "metadata": {
    "colab": {
      "name": "Ejercicio1.ipynb",
      "provenance": [],
      "authorship_tag": "ABX9TyMUWRK5aqH6IThmtbN1GF+C",
      "include_colab_link": true
    },
    "kernelspec": {
      "name": "python3",
      "display_name": "Python 3"
    },
    "language_info": {
      "name": "python"
    }
  },
  "cells": [
    {
      "cell_type": "markdown",
      "metadata": {
        "id": "view-in-github",
        "colab_type": "text"
      },
      "source": [
        "<a href=\"https://colab.research.google.com/github/Jesuscua/Automatizacion_infra/blob/main/AID-P2-T2-Ejercicios%20en%20python/Ejercicio1.ipynb\" target=\"_parent\"><img src=\"https://colab.research.google.com/assets/colab-badge.svg\" alt=\"Open In Colab\"/></a>"
      ]
    },
    {
      "cell_type": "markdown",
      "metadata": {
        "id": "PVNBlm7rE9OW"
      },
      "source": [
        "Ejercicio 1.\n",
        "\n",
        "Escribir un programa que acceda a un fichero de internet mediante su url y muestre por pantalla el número de palabras que contiene"
      ]
    },
    {
      "cell_type": "code",
      "metadata": {
        "colab": {
          "base_uri": "https://localhost:8080/"
        },
        "id": "cZOYftGd4Ja_",
        "outputId": "69bbeefb-912f-492a-fe42-c42ebef54d35"
      },
      "source": [
        "#Definir variable\n",
        "\n",
        "def fichero(url):\n",
        "    from urllib import request\n",
        "    from urllib.error import URLError\n",
        "#Verificar si la url existe y se puede leer\n",
        "    try:\n",
        "        archivo = request.urlopen(url)\n",
        "    except URLError:\n",
        "        return('Esta URL ' + url + ' no existe y no se puede contar las palabras')\n",
        "#Contabilizar palabras\n",
        "    else:\n",
        "        contenido = archivo.read()\n",
        "        return len(contenido.split())\n",
        "#Le damos las url's que analizará\n",
        "print(fichero('https://imperial.depotonlinemx.com/codigo.txt'))\n",
        "print(fichero('https://depotonlinemx.com/codigo.txt'))"
      ],
      "execution_count": 4,
      "outputs": [
        {
          "output_type": "stream",
          "text": [
            "476\n",
            "Esta URL https://depotonlinemx.com/codigo.txt no existe y no se puede contar las palabras\n"
          ],
          "name": "stdout"
        }
      ]
    },
    {
      "cell_type": "code",
      "metadata": {
        "id": "99_ww1KU5Bnx"
      },
      "source": [
        ""
      ],
      "execution_count": null,
      "outputs": []
    }
  ]
}