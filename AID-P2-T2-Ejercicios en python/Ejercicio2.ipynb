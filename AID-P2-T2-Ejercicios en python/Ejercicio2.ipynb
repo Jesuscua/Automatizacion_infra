{
  "nbformat": 4,
  "nbformat_minor": 0,
  "metadata": {
    "colab": {
      "name": "Ejercicio2.ipynb",
      "provenance": [],
      "authorship_tag": "ABX9TyMsf2yz73P4FyfiyLLG5wfv",
      "include_colab_link": true
    },
    "kernelspec": {
      "name": "python3",
      "display_name": "Python 3"
    },
    "language_info": {
      "name": "python"
    }
  },
  "cells": [
    {
      "cell_type": "markdown",
      "metadata": {
        "id": "view-in-github",
        "colab_type": "text"
      },
      "source": [
        "<a href=\"https://colab.research.google.com/github/Jesuscua/Automatizacion_infra/blob/main/AID-P2-T2-Ejercicios%20en%20python/Ejercicio2.ipynb\" target=\"_parent\"><img src=\"https://colab.research.google.com/assets/colab-badge.svg\" alt=\"Open In Colab\"/></a>"
      ]
    },
    {
      "cell_type": "markdown",
      "metadata": {
        "id": "dU-ey_VUGjsM"
      },
      "source": [
        "Ejercicio 2.\n",
        "\n",
        "Escribir un programa que abra el fichero con información sobre el PIB per cápita de los países de la Unión Europea (url:https://ec.europa.eu/eurostat/estat-navtree-portlet-prod/BulkDownloadListing?file=data/sdg_08_10.tsv.gz&unzip=true), pregunte por las iniciales de un país y muestre el PIB per cápita de ese país de todos los años disponibles."
      ]
    },
    {
      "cell_type": "code",
      "metadata": {
        "colab": {
          "base_uri": "https://localhost:8080/"
        },
        "id": "hJOgSdYgGaiH",
        "outputId": "58d534b3-f820-464a-b5e5-e1345460f47e"
      },
      "source": [
        "#Definir la varianble\n",
        "def pib(url, country='ES'):\n",
        "    from urllib import request\n",
        "    from urllib.error import URLError\n",
        "    try:\n",
        "        fuente = request.urlopen(url)\n",
        "    except URLError:\n",
        "        return('¡La url ' + url + ' no existe!')\n",
        "    else:\n",
        "# Leer los datos y guardar cada línea en una lista\n",
        "        dato = fuente.read().decode('utf-8').split('\\n') \n",
        "# Dividir cada línea por el tabulador\n",
        "        dato = [i.split('\\t') for i in dato]\n",
        "# Eliminar espacios en blanco \n",
        "        dato = [list(map(str.strip, i)) for i in dato]\n",
        "# Obtener el código del país del primer elemento de la lista \n",
        "        for i in dato:\n",
        "            i[0] = i[0].split(',')[-1] \n",
        "        dato[0][0] = 'years'\n",
        "        dato = {i[0]:i[1:] for i in dato}\n",
        "        resultado = {dato['years'][i]:dato[country][i] for i in range(len(dato['years']))}\n",
        "        return resultado\n",
        "#Resultado\n",
        "country = input('Introduce el código de un país: ')\n",
        "print('Producto Interior Bruto per cápita de', country)\n",
        "print('Año', '\\t', 'PIB')\n",
        "for year, pib2 in pib('https://ec.europa.eu/eurostat/estat-navtree-portlet-prod/BulkDownloadListing?file=data/sdg_08_10.tsv.gz&unzip=true').items():\n",
        "    print(year, '\\t', pib2)"
      ],
      "execution_count": 7,
      "outputs": [
        {
          "output_type": "stream",
          "text": [
            "Introduce el código de un país: US\n",
            "Producto Interior Bruto per cápita de US\n",
            "Año \t PIB\n",
            "2000 \t 21460\n",
            "2001 \t 22190\n",
            "2002 \t 22430\n",
            "2003 \t 22680\n",
            "2004 \t 23020\n",
            "2005 \t 23420\n",
            "2006 \t 24000\n",
            "2007 \t 24380\n",
            "2008 \t 24200\n",
            "2009 \t 23100\n",
            "2010 \t 23040\n",
            "2011 \t 22770\n",
            "2012 \t 22080\n",
            "2013 \t 21840\n",
            "2014 \t 22210\n",
            "2015 \t 23080\n",
            "2016 \t 23760\n",
            "2017 \t 24430\n",
            "2018 \t 24910 p\n",
            "2019 \t 25200 p\n",
            "2020 \t 22350 p\n"
          ],
          "name": "stdout"
        }
      ]
    },
    {
      "cell_type": "code",
      "metadata": {
        "id": "43FotGxwGq8r"
      },
      "source": [
        ""
      ],
      "execution_count": null,
      "outputs": []
    }
  ]
}