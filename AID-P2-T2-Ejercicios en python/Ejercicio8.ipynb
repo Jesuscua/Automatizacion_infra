{
  "nbformat": 4,
  "nbformat_minor": 0,
  "metadata": {
    "colab": {
      "name": "Ejercicio8.ipynb",
      "provenance": [],
      "authorship_tag": "ABX9TyPZrkfiXfMwfEs1Y+df7v6a",
      "include_colab_link": true
    },
    "kernelspec": {
      "name": "python3",
      "display_name": "Python 3"
    },
    "language_info": {
      "name": "python"
    }
  },
  "cells": [
    {
      "cell_type": "markdown",
      "metadata": {
        "id": "view-in-github",
        "colab_type": "text"
      },
      "source": [
        "<a href=\"https://colab.research.google.com/github/Jesuscua/Automatizacion_infra/blob/main/AID-P2-T2-Ejercicios%20en%20python/Ejercicio8.ipynb\" target=\"_parent\"><img src=\"https://colab.research.google.com/assets/colab-badge.svg\" alt=\"Open In Colab\"/></a>"
      ]
    },
    {
      "cell_type": "markdown",
      "metadata": {
        "id": "dDC_1metrdGJ"
      },
      "source": [
        "Ejercicio 8.\n",
        "\n",
        "Detectar y corregir los errores del siguiente programa que aplica el iva a una factura:\n",
        "\n",
        "base = input('Introduce la base imponible de la factura: ')\n",
        "\n",
        "print(aplica_iva(base, iva))\n",
        "\n",
        "defaplica_iva(base, iva = 16):\n",
        "\n",
        "base = base * iva   \n",
        "\n",
        "returnbase "
      ]
    },
    {
      "cell_type": "code",
      "metadata": {
        "colab": {
          "base_uri": "https://localhost:8080/"
        },
        "id": "8iQ4ehlvrTG0",
        "outputId": "996e2972-72a6-4ce0-8ad3-d3187ee59c4c"
      },
      "source": [
        "base = int(input('Introduce la base imponible de la factura: '))\n",
        "\n",
        "def funcion_iva(base, iva = 16):\n",
        "    base += base * iva / 100  \n",
        "    return base \n",
        "print(funcion_iva(base))"
      ],
      "execution_count": 1,
      "outputs": [
        {
          "output_type": "stream",
          "text": [
            "Introduce la base imponible de la factura: 8777\n",
            "10181.32\n"
          ],
          "name": "stdout"
        }
      ]
    },
    {
      "cell_type": "code",
      "metadata": {
        "id": "s_hfjzm1rzGK"
      },
      "source": [
        ""
      ],
      "execution_count": null,
      "outputs": []
    }
  ]
}