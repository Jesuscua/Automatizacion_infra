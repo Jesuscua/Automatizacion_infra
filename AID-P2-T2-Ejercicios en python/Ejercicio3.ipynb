{
  "nbformat": 4,
  "nbformat_minor": 0,
  "metadata": {
    "colab": {
      "name": "Ejercicio3.ipynb",
      "provenance": [],
      "authorship_tag": "ABX9TyO/G1JmZeCkl/58bLZse9CZ",
      "include_colab_link": true
    },
    "kernelspec": {
      "name": "python3",
      "display_name": "Python 3"
    },
    "language_info": {
      "name": "python"
    }
  },
  "cells": [
    {
      "cell_type": "markdown",
      "metadata": {
        "id": "view-in-github",
        "colab_type": "text"
      },
      "source": [
        "<a href=\"https://colab.research.google.com/github/Jesuscua/Automatizacion_infra/blob/main/AID-P2-T2-Ejercicios%20en%20python/Ejercicio3.ipynb\" target=\"_parent\"><img src=\"https://colab.research.google.com/assets/colab-badge.svg\" alt=\"Open In Colab\"/></a>"
      ]
    },
    {
      "cell_type": "markdown",
      "metadata": {
        "id": "qSQ7fkX-fyWJ"
      },
      "source": [
        "Ejercicio 3.\n",
        "\n",
        "Escribir un programa para gestionar un listín telefónico con los nombres y los teléfonos de los clientes de una empresa. El programa incorporar funciones crear el fichero con el listín si no existe, para consultar el teléfono de un cliente, añadir el teléfono de un nuevo cliente y eliminar el teléfono de un cliente. El listín debe estar guardado en el fichero de texto listin.txt donde el nombre del cliente y su teléfono deben aparecer separados por comas y cada cliente en una línea distinta."
      ]
    },
    {
      "cell_type": "code",
      "metadata": {
        "id": "al7Npunjft81"
      },
      "source": [
        "#Definicion de variables\n",
        "def telefono(archivo, cliente):\n",
        "#Comprobar la existencia del archivo\n",
        "    try: \n",
        "        f = open(archivo, 'r')\n",
        "    except FileNotFoundError:\n",
        "        return('El fichero ' + archivo + ' no existe\\n')\n",
        "#Enlistar elementos\n",
        "    else:\n",
        "        directory = f.readlines()\n",
        "        f.close()\n",
        "        directory = dict([tuple(line.split(',')) for line in directory])\n",
        "        if cliente in directory:\n",
        "            return directory[cliente]\n",
        "#Funcion para decir que el nombre del cliente no existe\n",
        "        else:\n",
        "            return('El cliente ' + cliente + ' no existe\\n')\n",
        "\n",
        "#Definicion de variables\n",
        "def anadir_telefono(archivo, cliente, telfono):\n",
        "#Comprobar la existencia \n",
        "    try: \n",
        "        f = open(archivo, 'a')\n",
        "    except FileNotFoundError:\n",
        "        return('E Fichero ' + archivo + ' no existe\\n')\n",
        "    else:\n",
        "        f.write(cliente + ',' + telfono + '\\n')\n",
        "        f.close()\n",
        "        return('Ya ha sido guardado el telefono.\\n')\n",
        "\n",
        "def remover_cel(archivo, cliente):\n",
        "\n",
        "    try: \n",
        "        f = open(archivo, 'r')\n",
        "    except FileNotFoundError:\n",
        "        return('Es fichero ' + archivo + ' no existe!\\n')\n",
        "    else:\n",
        "        directory = f.readlines()\n",
        "        f.close()\n",
        "        directory = dict([tuple(line.split(',')) for line in directory])\n",
        "        if client in directory:\n",
        "            del directory[cliente]\n",
        "            f = open(archivo, 'w')\n",
        "            for name, telfono in directory.items():\n",
        "                f.write(name + ',' + telfono)\n",
        "            f.close()\n",
        "            return ('¡El cliente se ha borrado!\\n')\n",
        "        else:\n",
        "            return('¡Este contacto ' + cliente + ' no existe!\\n')\n",
        "\n",
        "#Definir variables para crear el archivo\n",
        "def crear_directorio(archivo):\n",
        "\n",
        "    import os\n",
        "    if os.path.isfile(archivo):\n",
        "        answer = input('El fichero ' + archivo + ' ya existe. ¿Desea vaciarlo (S/N)? ')\n",
        "        if answer == 'N': \n",
        "            return 'No se ha creado el fichero porque ya existe.\\n'\n",
        "    f = open(archivo, 'w')\n",
        "    f.close()\n",
        "    return 'Se ha creado el fichero.\\n'\n",
        "     \n",
        "\n",
        "def menu():\n",
        "\n",
        "    print('Lista de Contactos')\n",
        "    print(\"\")\n",
        "    print('1 - Consultar un nombre y teléfono')\n",
        "    print('2 - Añadir un nombre y teléfono')\n",
        "    print('3 - Eliminar un nombre y teléfono')\n",
        "    print('4 - vaciar lista de contactos')\n",
        "    print('0 - Terminar')\n",
        "    option = input('Introduzca el número de la opción deseada: ')\n",
        "    return option\n",
        "\n",
        "#Funcion para abrir el archivo y consultar\n",
        "def directory():\n",
        "    archivo = 'listin.txt' \n",
        "    while True:\n",
        "        option = menu()\n",
        "        if option == '1':\n",
        "            name = input('Digite el nombre del cliente: ')\n",
        "            print(telefono(archivo, name))\n",
        "        elif option == '2':\n",
        "            name = input('Digite el nombre del cliente: ')\n",
        "            telf = input('Digite el teléfono del cliente: ')\n",
        "            print(anadir_telefono(archivo, name, telf))\n",
        "        elif option == '3':\n",
        "            name = input('Digite el nombre del cliente: ')\n",
        "            print(remover_celular(archivo, name))\n",
        "        elif option == '4':\n",
        "            print(crear_directorio(archivo))\n",
        "        else:\n",
        "            break\n",
        "    return\n"
      ],
      "execution_count": 13,
      "outputs": []
    },
    {
      "cell_type": "code",
      "metadata": {
        "colab": {
          "base_uri": "https://localhost:8080/"
        },
        "id": "tlBl3O1PhRCZ",
        "outputId": "1c705152-7c5b-42db-e620-eef5931466a6"
      },
      "source": [
        "#Llamar a la funcion\n",
        "directory()"
      ],
      "execution_count": 14,
      "outputs": [
        {
          "output_type": "stream",
          "text": [
            "Lista de Contactos\n",
            "\n",
            "1 - Consultar un nombre y teléfono\n",
            "2 - Añadir un nombre y teléfono\n",
            "3 - Eliminar un nombre y teléfono\n",
            "4 - vaciar lista de contactos\n",
            "0 - Terminar\n",
            "Introduzca el número de la opción deseada: 1\n",
            "Digite el nombre del cliente: Jesus\n",
            "El cliente Jesus no existe\n",
            "\n",
            "Lista de Contactos\n",
            "\n",
            "1 - Consultar un nombre y teléfono\n",
            "2 - Añadir un nombre y teléfono\n",
            "3 - Eliminar un nombre y teléfono\n",
            "4 - vaciar lista de contactos\n",
            "0 - Terminar\n",
            "Introduzca el número de la opción deseada: 2\n",
            "Digite el nombre del cliente: Jesus\n",
            "Digite el teléfono del cliente: 9994642098\n",
            "Ya ha sido guardado el telefono.\n",
            "\n",
            "Lista de Contactos\n",
            "\n",
            "1 - Consultar un nombre y teléfono\n",
            "2 - Añadir un nombre y teléfono\n",
            "3 - Eliminar un nombre y teléfono\n",
            "4 - vaciar lista de contactos\n",
            "0 - Terminar\n",
            "Introduzca el número de la opción deseada: 4\n",
            "El fichero listin.txt ya existe. ¿Desea vaciarlo (S/N)? S\n",
            "Se ha creado el fichero.\n",
            "\n",
            "Lista de Contactos\n",
            "\n",
            "1 - Consultar un nombre y teléfono\n",
            "2 - Añadir un nombre y teléfono\n",
            "3 - Eliminar un nombre y teléfono\n",
            "4 - vaciar lista de contactos\n",
            "0 - Terminar\n",
            "Introduzca el número de la opción deseada: 0\n"
          ],
          "name": "stdout"
        }
      ]
    },
    {
      "cell_type": "code",
      "metadata": {
        "id": "BCyFs8qykOd5"
      },
      "source": [
        ""
      ],
      "execution_count": null,
      "outputs": []
    }
  ]
}