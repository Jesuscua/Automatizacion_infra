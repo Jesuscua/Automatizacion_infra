{
  "nbformat": 4,
  "nbformat_minor": 0,
  "metadata": {
    "colab": {
      "name": "Ejercicio10.ipynb",
      "provenance": [],
      "authorship_tag": "ABX9TyPSbtKeInwgjrC/9djSjrSE",
      "include_colab_link": true
    },
    "kernelspec": {
      "name": "python3",
      "display_name": "Python 3"
    },
    "language_info": {
      "name": "python"
    }
  },
  "cells": [
    {
      "cell_type": "markdown",
      "metadata": {
        "id": "view-in-github",
        "colab_type": "text"
      },
      "source": [
        "<a href=\"https://colab.research.google.com/github/Jesuscua/Automatizacion_infra/blob/main/AID-P2-T2-Ejercicios%20en%20python/Ejercicio10.ipynb\" target=\"_parent\"><img src=\"https://colab.research.google.com/assets/colab-badge.svg\" alt=\"Open In Colab\"/></a>"
      ]
    },
    {
      "cell_type": "markdown",
      "metadata": {
        "id": "Qc1nTDpzt3n6"
      },
      "source": [
        "Ejercicio 10\n",
        "\n",
        "Detectar y corregir los errores del siguiente programa que calcula el producto escalar de dos vectores:\n",
        "\n",
        "u = (1, 2, 3)\n",
        "\n",
        "v = (4, 5, 6)\n",
        "\n",
        "defproducto_escalar(u, v):\n",
        "\n",
        "fori inu:\n",
        "\n",
        "u[i+1] *= v[i+1]\n",
        "\n",
        "returnsum(u)\n",
        "\n",
        "print(producto_escalar(u, v))"
      ]
    },
    {
      "cell_type": "code",
      "metadata": {
        "colab": {
          "base_uri": "https://localhost:8080/"
        },
        "id": "Rh2RFEf6t0vo",
        "outputId": "0022bf07-d1ae-4aba-e434-5a21dfa95fe7"
      },
      "source": [
        "\n",
        "u = [1, 2, 3]\n",
        "v = [4, 5, 6]\n",
        "\n",
        "def producto_escalar(u, v):\n",
        "    for i in range(len(u)):\n",
        "        u[i] *= v[i]\n",
        "    return sum(u)\n",
        "\n",
        "print(producto_escalar(u, v))\n",
        "\n"
      ],
      "execution_count": 2,
      "outputs": [
        {
          "output_type": "stream",
          "text": [
            "32\n"
          ],
          "name": "stdout"
        }
      ]
    },
    {
      "cell_type": "code",
      "metadata": {
        "id": "AhmqqAISuO2b"
      },
      "source": [
        ""
      ],
      "execution_count": null,
      "outputs": []
    }
  ]
}