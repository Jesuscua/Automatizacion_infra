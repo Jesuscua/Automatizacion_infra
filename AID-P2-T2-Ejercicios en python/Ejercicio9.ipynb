{
  "nbformat": 4,
  "nbformat_minor": 0,
  "metadata": {
    "colab": {
      "name": "Ejercicio9.ipynb",
      "provenance": [],
      "authorship_tag": "ABX9TyPunBBmRU8AXkApxirAggN5",
      "include_colab_link": true
    },
    "kernelspec": {
      "name": "python3",
      "display_name": "Python 3"
    },
    "language_info": {
      "name": "python"
    }
  },
  "cells": [
    {
      "cell_type": "markdown",
      "metadata": {
        "id": "view-in-github",
        "colab_type": "text"
      },
      "source": [
        "<a href=\"https://colab.research.google.com/github/Jesuscua/Automatizacion_infra/blob/main/AID-P2-T2-Ejercicios%20en%20python/Ejercicio9.ipynb\" target=\"_parent\"><img src=\"https://colab.research.google.com/assets/colab-badge.svg\" alt=\"Open In Colab\"/></a>"
      ]
    },
    {
      "cell_type": "markdown",
      "metadata": {
        "id": "sM6b9i-GsSCW"
      },
      "source": [
        "Ejercicio 9\n",
        "\n",
        "\n",
        "Detectar y corregir los errores del siguiente programa que multiplica dos matrices:\n",
        "\n",
        "a = ((1, 2, 3),\n",
        "\n",
        "(3, 2, 1))\n",
        "\n",
        "b = ((1, 2),(3, 4),\n",
        "\n",
        "(5, 6))\n",
        "\n",
        "defproducto(a, b):\n",
        "\n",
        "producto = []\n",
        "\n",
        "fori inrange(len(b)):\n",
        "\n",
        "fila = []\n",
        "\n",
        "forj inrange(len(a[0])):\n",
        "\n",
        "suma = 0fork inrange(len(a[0]+1)):\n",
        "\n",
        "suma += a[i][k] * b[k+1][j]\n",
        "\n",
        "fila[j] = suma\n",
        "\n",
        "producto[i] = tuple(fila)\n",
        "\n",
        "returntuple(producto)\n",
        "\n",
        "print(producto(a, b))"
      ]
    },
    {
      "cell_type": "code",
      "metadata": {
        "colab": {
          "base_uri": "https://localhost:8080/"
        },
        "id": "wgNV0svGsLAF",
        "outputId": "7e8bbc82-9f9e-45ac-d2bd-66ba723078eb"
      },
      "source": [
        "a = ((1, 2, 3),\n",
        "     (3, 2, 1))\n",
        "b = ((1, 2),\n",
        "     (3, 4),\n",
        "     (5, 6))\n",
        "\n",
        "def pro(a, b):\n",
        "    pro = []\n",
        "    for i in range(len(a)):\n",
        "        fila = [] \n",
        "        for j in range(len(b[0])):\n",
        "            suma = 0\n",
        "            for k in range(len(a[0])):\n",
        "                suma += a[i][k] * b[k][j]\n",
        "            fila.append(suma)\n",
        "        pro.append(tuple(fila))\n",
        "    return tuple(pro)\n",
        "\n",
        "print(pro(a, b))"
      ],
      "execution_count": 2,
      "outputs": [
        {
          "output_type": "stream",
          "text": [
            "((22, 28), (14, 20))\n"
          ],
          "name": "stdout"
        }
      ]
    },
    {
      "cell_type": "code",
      "metadata": {
        "id": "zcAIdsMYtGsD"
      },
      "source": [
        ""
      ],
      "execution_count": null,
      "outputs": []
    }
  ]
}