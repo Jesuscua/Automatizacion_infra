{
  "nbformat": 4,
  "nbformat_minor": 0,
  "metadata": {
    "colab": {
      "name": "Ejercico4.ipynb",
      "provenance": [],
      "authorship_tag": "ABX9TyNRnIw2N1aMLvIxTpIAj+QU",
      "include_colab_link": true
    },
    "kernelspec": {
      "name": "python3",
      "display_name": "Python 3"
    },
    "language_info": {
      "name": "python"
    }
  },
  "cells": [
    {
      "cell_type": "markdown",
      "metadata": {
        "id": "view-in-github",
        "colab_type": "text"
      },
      "source": [
        "<a href=\"https://colab.research.google.com/github/Jesuscua/Automatizacion_infra/blob/main/AID-P2-T2-Ejercicios%20en%20python/Ejercico4.ipynb\" target=\"_parent\"><img src=\"https://colab.research.google.com/assets/colab-badge.svg\" alt=\"Open In Colab\"/></a>"
      ]
    },
    {
      "cell_type": "markdown",
      "metadata": {
        "id": "JZsxFvibk6yv"
      },
      "source": [
        "Ejercicio 4.\n",
        "\n",
        "Escribir una función que aplique un descuento a un precio y otra que aplique el IVA a un precio. Escribir una tercera función que reciba un diccionario con los precios y porcentajes de una cesta de la compra, y una de las funciones anteriores, y utilice la función pasada para aplicar los descuentos o el IVA a los productos de la cesta y devolver el precio final de la cesta."
      ]
    },
    {
      "cell_type": "code",
      "metadata": {
        "colab": {
          "base_uri": "https://localhost:8080/"
        },
        "id": "NBF7CLXNkwM0",
        "outputId": "3bb3aa45-0e15-4ee8-dcfd-959bb087be15"
      },
      "source": [
        "#Definir variable descuento\n",
        "def decuento(pre, des):\n",
        "   \n",
        "    return pre - pre * des / 100\n",
        "#Variable IVA    \n",
        "def iva(pre, iva):\n",
        "    \n",
        "    return pre + pre * iva / 100\n",
        "#Diccionario/calculo Total\n",
        "def real(bas, fun):\n",
        "    \n",
        "    total = 0\n",
        "    for pre, des in bas.items():\n",
        "        total += fun(pre, des)\n",
        "    return total\n",
        "\n",
        "print('El precio con descuento es: ', real({500:20, 5000:10}, decuento))\n",
        "print('el precio con IVA es: ', real({1000:20, 3000:10}, iva))"
      ],
      "execution_count": 3,
      "outputs": [
        {
          "output_type": "stream",
          "text": [
            "El precio con descuento es:  4900.0\n",
            "el precio con IVA es:  4500.0\n"
          ],
          "name": "stdout"
        }
      ]
    },
    {
      "cell_type": "code",
      "metadata": {
        "id": "vM54Z13blkzr"
      },
      "source": [
        ""
      ],
      "execution_count": null,
      "outputs": []
    }
  ]
}