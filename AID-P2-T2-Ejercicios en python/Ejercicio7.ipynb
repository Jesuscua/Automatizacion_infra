{
  "nbformat": 4,
  "nbformat_minor": 0,
  "metadata": {
    "colab": {
      "name": "Ejercicio7.ipynb",
      "provenance": [],
      "authorship_tag": "ABX9TyPAHtd3esnNiojER7u0lB+J",
      "include_colab_link": true
    },
    "kernelspec": {
      "name": "python3",
      "display_name": "Python 3"
    },
    "language_info": {
      "name": "python"
    }
  },
  "cells": [
    {
      "cell_type": "markdown",
      "metadata": {
        "id": "view-in-github",
        "colab_type": "text"
      },
      "source": [
        "<a href=\"https://colab.research.google.com/github/Jesuscua/Automatizacion_infra/blob/main/AID-P2-T2-Ejercicios%20en%20python/Ejercicio7.ipynb\" target=\"_parent\"><img src=\"https://colab.research.google.com/assets/colab-badge.svg\" alt=\"Open In Colab\"/></a>"
      ]
    },
    {
      "cell_type": "markdown",
      "metadata": {
        "id": "vdQQYUabqhaU"
      },
      "source": [
        "Ejercicio 7.\n",
        "\n",
        "Corregir los errores sintácticos del siguiente programa:\n",
        "\n",
        "contraseña = input('Introduce la contraseña: \")\n",
        "\n",
        "if contraseña in ['sesamo'):\n",
        "\n",
        "print('Pasa')\n",
        "\n",
        "else\n",
        "\n",
        "print('No pasa')"
      ]
    },
    {
      "cell_type": "code",
      "metadata": {
        "colab": {
          "base_uri": "https://localhost:8080/"
        },
        "id": "yvJmmhNDqaVM",
        "outputId": "aa12070c-cf3c-4570-c64d-65bb18baff75"
      },
      "source": [
        "contraseña = input('Introduce la contraseña:')\n",
        "if contraseña in ['sesamo']:\n",
        "    print('Pasa')\n",
        "else:\n",
        "    print('No pasa')"
      ],
      "execution_count": 2,
      "outputs": [
        {
          "output_type": "stream",
          "text": [
            "Introduce la contraseña:sesamo\n",
            "Pasa\n"
          ],
          "name": "stdout"
        }
      ]
    },
    {
      "cell_type": "code",
      "metadata": {
        "id": "BGmlLItFq-aK"
      },
      "source": [
        ""
      ],
      "execution_count": null,
      "outputs": []
    }
  ]
}