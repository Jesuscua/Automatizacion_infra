{
  "nbformat": 4,
  "nbformat_minor": 0,
  "metadata": {
    "colab": {
      "name": "Untitled1.ipynb",
      "provenance": [],
      "authorship_tag": "ABX9TyOuYS7Sqylsd5m+LzSR7EkQ",
      "include_colab_link": true
    },
    "kernelspec": {
      "name": "python3",
      "display_name": "Python 3"
    },
    "language_info": {
      "name": "python"
    }
  },
  "cells": [
    {
      "cell_type": "markdown",
      "metadata": {
        "id": "view-in-github",
        "colab_type": "text"
      },
      "source": [
        "<a href=\"https://colab.research.google.com/github/Jesuscua/Automatizacion_infra/blob/main/Ejercicio7.ipynb\" target=\"_parent\"><img src=\"https://colab.research.google.com/assets/colab-badge.svg\" alt=\"Open In Colab\"/></a>"
      ]
    },
    {
      "cell_type": "markdown",
      "metadata": {
        "id": "AvBtAn8TRh9k"
      },
      "source": [
        "Ejercicio 7:\n",
        "\n",
        "Escribir una función que convierta un número decimal en binario y otra que convierta un número binario en decimal"
      ]
    },
    {
      "cell_type": "code",
      "metadata": {
        "colab": {
          "base_uri": "https://localhost:8080/"
        },
        "id": "mj-sx-d8RhBY",
        "outputId": "679ac8ad-589b-4cd6-d4b2-eaedfb5f401d"
      },
      "source": [
        "#Varisbles\n",
        "decimal = 69\n",
        "binario = 110101\n",
        "\n",
        "#Decimal a Binario\n",
        "def deciabin(dec):\n",
        "  temp = \"\"\n",
        "  while dec != 0:\n",
        "    temp = str(dec % 2) + temp\n",
        "    dec = dec // 2\n",
        "  return temp\n",
        "\n",
        "# Binario a Decimal\n",
        "def binadec(bin):\n",
        "  contador = 0\n",
        "  temp = 0\n",
        "  bintemp = \"\"\n",
        "\n",
        "  for carac in str(bin):\n",
        "    bintemp =  carac + bintemp\n",
        "\n",
        "  for carac in str(bintemp):\n",
        "    if carac == \"1\":\n",
        "      temp = temp + (2**contador)\n",
        "    contdora = contador + 1\n",
        "  \n",
        "  return temp\n",
        "\n",
        "#Resultados\n",
        "print(\"El resultado de decimal a binario es: \", deciabin(decimal))\n",
        "print(\"El resultado de binario a decimal es: \", binadec(binario))"
      ],
      "execution_count": 4,
      "outputs": [
        {
          "output_type": "stream",
          "text": [
            "El resultado de decimal a binario es:  1000101\n",
            "El resultado de binario a decimal es:  4\n"
          ],
          "name": "stdout"
        }
      ]
    },
    {
      "cell_type": "code",
      "metadata": {
        "id": "QV3ZDhSPS-vr"
      },
      "source": [
        ""
      ],
      "execution_count": null,
      "outputs": []
    }
  ]
}