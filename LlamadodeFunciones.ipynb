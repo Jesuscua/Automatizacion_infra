{
  "nbformat": 4,
  "nbformat_minor": 0,
  "metadata": {
    "colab": {
      "name": "LlamadodeFunciones.ipynb",
      "provenance": [],
      "authorship_tag": "ABX9TyOqh2X3erwa9UDb8Vp9erkF",
      "include_colab_link": true
    },
    "kernelspec": {
      "name": "python3",
      "display_name": "Python 3"
    },
    "language_info": {
      "name": "python"
    }
  },
  "cells": [
    {
      "cell_type": "markdown",
      "metadata": {
        "id": "view-in-github",
        "colab_type": "text"
      },
      "source": [
        "<a href=\"https://colab.research.google.com/github/Jesuscua/Automatizacion_infra/blob/main/LlamadodeFunciones.ipynb\" target=\"_parent\"><img src=\"https://colab.research.google.com/assets/colab-badge.svg\" alt=\"Open In Colab\"/></a>"
      ]
    },
    {
      "cell_type": "code",
      "metadata": {
        "id": "BEDLqsU7t-k_"
      },
      "source": [
        "#Llamamos las funciones declaradas en otro archivo\n",
        "from funcionesexternas import *\n",
        "\n",
        "#Invocamos las funciones\n",
        "funcion1()\n",
        "#Invocamos la otra funcion \n",
        "Q=input('Introduzca un dato')\n",
        "W=input('Introduzca otro dato')\n",
        "print (funcion2(Q,W))"
      ],
      "execution_count": null,
      "outputs": []
    }
  ]
}