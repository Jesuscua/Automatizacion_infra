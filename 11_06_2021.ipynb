{
  "nbformat": 4,
  "nbformat_minor": 0,
  "metadata": {
    "colab": {
      "name": "11/06/2021.ipynb",
      "provenance": [],
      "authorship_tag": "ABX9TyMp88pC1BADecMPtQ8buoe1",
      "include_colab_link": true
    },
    "kernelspec": {
      "name": "python3",
      "display_name": "Python 3"
    },
    "language_info": {
      "name": "python"
    }
  },
  "cells": [
    {
      "cell_type": "markdown",
      "metadata": {
        "id": "view-in-github",
        "colab_type": "text"
      },
      "source": [
        "<a href=\"https://colab.research.google.com/github/Jesuscua/Automatizacion_infra/blob/main/11_06_2021.ipynb\" target=\"_parent\"><img src=\"https://colab.research.google.com/assets/colab-badge.svg\" alt=\"Open In Colab\"/></a>"
      ]
    },
    {
      "cell_type": "code",
      "metadata": {
        "colab": {
          "base_uri": "https://localhost:8080/"
        },
        "id": "yI897g8o-vfV",
        "outputId": "9c9c0179-b14f-4ebf-b082-fbbe4a8ab2d4"
      },
      "source": [
        "#Array de una dimensión\n",
        "import numpy as np\n",
        "al = np.array([1,2,3])\n",
        "print(al)"
      ],
      "execution_count": 6,
      "outputs": [
        {
          "output_type": "stream",
          "text": [
            "[1 2 3]\n"
          ],
          "name": "stdout"
        }
      ]
    },
    {
      "cell_type": "code",
      "metadata": {
        "colab": {
          "base_uri": "https://localhost:8080/"
        },
        "id": "f2Hz6Csm-9K5",
        "outputId": "4f907401-30fb-45ad-ecc7-83ecbb33443e"
      },
      "source": [
        "#Array de dos dimensiones\n",
        "a2=np.array([[1, 2, 3], [4, 5, 6]])\n",
        "print(a2)"
      ],
      "execution_count": 3,
      "outputs": [
        {
          "output_type": "stream",
          "text": [
            "[[1 2 3]\n",
            " [4 5 6]]\n"
          ],
          "name": "stdout"
        }
      ]
    },
    {
      "cell_type": "code",
      "metadata": {
        "colab": {
          "base_uri": "https://localhost:8080/"
        },
        "id": "qkmG05zuDLh6",
        "outputId": "1a587ad8-1747-423d-ce8a-d48b64117e7b"
      },
      "source": [
        "#Array de tres dimensiones\n",
        "a3=np.array([[[1, 2, 3], [4, 5, 6]], [[7, 8, 9], [10, 11, 12]]])\n",
        "print(a3)"
      ],
      "execution_count": 5,
      "outputs": [
        {
          "output_type": "stream",
          "text": [
            "[[[ 1  2  3]\n",
            "  [ 4  5  6]]\n",
            "\n",
            " [[ 7  8  9]\n",
            "  [10 11 12]]]\n"
          ],
          "name": "stdout"
        }
      ]
    },
    {
      "cell_type": "code",
      "metadata": {
        "colab": {
          "base_uri": "https://localhost:8080/"
        },
        "id": "vUo49OXMDRg-",
        "outputId": "d2e163e7-8ecc-4668-8e78-4b74da7f39ce"
      },
      "source": [
        "print (np.zeros((3,2)))"
      ],
      "execution_count": 11,
      "outputs": [
        {
          "output_type": "stream",
          "text": [
            "[[0. 0.]\n",
            " [0. 0.]\n",
            " [0. 0.]]\n"
          ],
          "name": "stdout"
        }
      ]
    },
    {
      "cell_type": "code",
      "metadata": {
        "colab": {
          "base_uri": "https://localhost:8080/"
        },
        "id": "ZzihHjA8Dam7",
        "outputId": "dd6c866e-cba7-4a33-8ea7-a94a72f17f2c"
      },
      "source": [
        "\n",
        "print(np.identity(3))"
      ],
      "execution_count": 7,
      "outputs": [
        {
          "output_type": "stream",
          "text": [
            "[[1. 0. 0.]\n",
            " [0. 1. 0.]\n",
            " [0. 0. 1.]]\n"
          ],
          "name": "stdout"
        }
      ]
    },
    {
      "cell_type": "code",
      "metadata": {
        "colab": {
          "base_uri": "https://localhost:8080/"
        },
        "id": "rB8Mbhn_Er6P",
        "outputId": "9407725e-7313-430b-8a5b-9dabf088cf14"
      },
      "source": [
        "print(np.arange(1, 10, 2))"
      ],
      "execution_count": 8,
      "outputs": [
        {
          "output_type": "stream",
          "text": [
            "[1 3 5 7 9]\n"
          ],
          "name": "stdout"
        }
      ]
    },
    {
      "cell_type": "code",
      "metadata": {
        "colab": {
          "base_uri": "https://localhost:8080/"
        },
        "id": "SABVp8t3IO1_",
        "outputId": "25729040-0c20-4829-fc94-45a66d32a2d2"
      },
      "source": [
        "print(np.linspace(0, 10, 5))"
      ],
      "execution_count": 9,
      "outputs": [
        {
          "output_type": "stream",
          "text": [
            "[ 0.   2.5  5.   7.5 10. ]\n"
          ],
          "name": "stdout"
        }
      ]
    },
    {
      "cell_type": "code",
      "metadata": {
        "colab": {
          "base_uri": "https://localhost:8080/"
        },
        "id": "wr_ZReW9IQxK",
        "outputId": "721701e4-0e81-4ff9-ca0c-4edf822f1eb1"
      },
      "source": [
        "a=np.array([[1, 2, 3], [4, 5, 6]])\n",
        "print(a[1, 0])#Acceso al elemento de la fila 1 columna 0"
      ],
      "execution_count": 11,
      "outputs": [
        {
          "output_type": "stream",
          "text": [
            "4\n"
          ],
          "name": "stdout"
        }
      ]
    },
    {
      "cell_type": "code",
      "metadata": {
        "colab": {
          "base_uri": "https://localhost:8080/"
        },
        "id": "2wjc1g1oI2wy",
        "outputId": "f54d0c4c-0701-4822-d917-1602e0efeb0c"
      },
      "source": [
        "print(a[1][0])"
      ],
      "execution_count": 13,
      "outputs": [
        {
          "output_type": "stream",
          "text": [
            "4\n"
          ],
          "name": "stdout"
        }
      ]
    },
    {
      "cell_type": "code",
      "metadata": {
        "colab": {
          "base_uri": "https://localhost:8080/"
        },
        "id": "1ROzCVy2JYbs",
        "outputId": "d0a5cf13-d535-4899-fb62-f21fb2478d11"
      },
      "source": [
        "print(a[:, 0:2])"
      ],
      "execution_count": 14,
      "outputs": [
        {
          "output_type": "stream",
          "text": [
            "[[1 2]\n",
            " [4 5]]\n"
          ],
          "name": "stdout"
        }
      ]
    },
    {
      "cell_type": "code",
      "metadata": {
        "colab": {
          "base_uri": "https://localhost:8080/"
        },
        "id": "eXnxM-5oKBlz",
        "outputId": "a08250bf-34b4-4a75-e03c-72ad1f456199"
      },
      "source": [
        "a=np.array([[1, 2, 3], [4, 5, 6]])\n",
        "print(a[(a% 2 == 0)])"
      ],
      "execution_count": 17,
      "outputs": [
        {
          "output_type": "stream",
          "text": [
            "[2 4 6]\n"
          ],
          "name": "stdout"
        }
      ]
    },
    {
      "cell_type": "code",
      "metadata": {
        "id": "AfmAmzJoKI8s"
      },
      "source": [
        ""
      ],
      "execution_count": null,
      "outputs": []
    }
  ]
}