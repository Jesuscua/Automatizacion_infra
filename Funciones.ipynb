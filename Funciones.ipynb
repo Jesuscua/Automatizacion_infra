{
  "nbformat": 4,
  "nbformat_minor": 0,
  "metadata": {
    "colab": {
      "name": "FuncionesExternas.ipynb",
      "provenance": [],
      "authorship_tag": "ABX9TyMknZtW8EpUKClhiZPiQJhd",
      "include_colab_link": true
    },
    "kernelspec": {
      "name": "python3",
      "display_name": "Python 3"
    },
    "language_info": {
      "name": "python"
    }
  },
  "cells": [
    {
      "cell_type": "markdown",
      "metadata": {
        "id": "view-in-github",
        "colab_type": "text"
      },
      "source": [
        "<a href=\"https://colab.research.google.com/github/Jesuscua/Automatizacion_infra/blob/main/Funciones.ipynb\" target=\"_parent\"><img src=\"https://colab.research.google.com/assets/colab-badge.svg\" alt=\"Open In Colab\"/></a>"
      ]
    },
    {
      "cell_type": "code",
      "metadata": {
        "id": "XqUvbtKxsf2u"
      },
      "source": [
        "#Funcion si parametros\n",
        "def funcion1 ():\n",
        "    #Contenido de funcion\n",
        "    print ('Has llamado a la funcion')\n",
        "\n",
        "#Funcion con parametros y retorno\n",
        "def funcion2 (a,b):\n",
        "    #contenido de la funcion\n",
        "    c = int (a) + int (b)\n",
        "    return c\n",
        "    "
      ],
      "execution_count": null,
      "outputs": []
    },
    {
      "cell_type": "code",
      "metadata": {
        "id": "cnwdN_iLskO9"
      },
      "source": [
        "#Llamamos las funciones declaradas en otro archivo\n",
        "from funcionesexternas import *\n",
        "\n",
        "#Invocamos las funciones\n",
        "funcion1()\n",
        "#Invocamos la otra funcion \n",
        "Q=input('Introduzca un dato')\n",
        "W=input('Introduzca otro dato')\n",
        "print (funcion2(Q,W))"
      ],
      "execution_count": null,
      "outputs": []
    },
    {
      "cell_type": "code",
      "metadata": {
        "id": "IqdJOu79xtZy"
      },
      "source": [
        ""
      ],
      "execution_count": null,
      "outputs": []
    }
  ]
}