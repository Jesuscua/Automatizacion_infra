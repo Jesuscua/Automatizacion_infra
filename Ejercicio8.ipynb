{
  "nbformat": 4,
  "nbformat_minor": 0,
  "metadata": {
    "colab": {
      "name": "Ejercicio8.ipynb",
      "provenance": [],
      "authorship_tag": "ABX9TyNGIve4SQO9USF7YtnvspW5",
      "include_colab_link": true
    },
    "kernelspec": {
      "name": "python3",
      "display_name": "Python 3"
    },
    "language_info": {
      "name": "python"
    }
  },
  "cells": [
    {
      "cell_type": "markdown",
      "metadata": {
        "id": "view-in-github",
        "colab_type": "text"
      },
      "source": [
        "<a href=\"https://colab.research.google.com/github/Jesuscua/Automatizacion_infra/blob/main/Ejercicio8.ipynb\" target=\"_parent\"><img src=\"https://colab.research.google.com/assets/colab-badge.svg\" alt=\"Open In Colab\"/></a>"
      ]
    },
    {
      "cell_type": "markdown",
      "metadata": {
        "id": "BdRVhnadU9YH"
      },
      "source": [
        "Ejercicio 8:\n",
        "\n",
        "Escribir un programa que reciba una cadena de caracteres y devuelva un diccionario con cada palabra que contiene y su frecuencia. Escribir otra función que reciba el diccionario generado con la función anterior y devuelva una tupla con la palabra más repetida y su frecuencia"
      ]
    },
    {
      "cell_type": "code",
      "metadata": {
        "colab": {
          "base_uri": "https://localhost:8080/"
        },
        "id": "sfpEEZMFU8qt",
        "outputId": "ed4b44bd-761a-466d-9e90-0b0b542a2e17"
      },
      "source": [
        "#Variables\n",
        "texto = \"Hola mundo, este es mi primer programa de hola mundo en pyton para el mundo\"\n",
        "\n",
        "#Funcion\n",
        "def dicc(text):\n",
        "    text = text.split()\n",
        "    words = {}\n",
        "    for i in text:\n",
        "        if i in words:\n",
        "            words[i] += 1\n",
        "        else:\n",
        "            words[i] = 1\n",
        "    return words\n",
        "\n",
        "#Tupla\n",
        "def tupla(words):\n",
        "    max_word = ''\n",
        "    max_freq = 0\n",
        "    for word, freq in words.items():\n",
        "        if freq > max_freq:\n",
        "            max_word = word\n",
        "            max_freq = freq\n",
        "    return max_word, max_freq\n",
        "\n",
        "#Resultados\n",
        "print(\"El diccionario es: \", dicc(texto))\n",
        "print(\"La tupla es: \", tupla(dicc(texto)))"
      ],
      "execution_count": 1,
      "outputs": [
        {
          "output_type": "stream",
          "text": [
            "El diccionario es:  {'Hola': 1, 'mundo,': 1, 'este': 1, 'es': 1, 'mi': 1, 'primer': 1, 'programa': 1, 'de': 1, 'hola': 1, 'mundo': 2, 'en': 1, 'pyton': 1, 'para': 1, 'el': 1}\n",
            "La tupla es:  ('mundo', 2)\n"
          ],
          "name": "stdout"
        }
      ]
    },
    {
      "cell_type": "code",
      "metadata": {
        "id": "2LQla2qwVdjl"
      },
      "source": [
        ""
      ],
      "execution_count": null,
      "outputs": []
    }
  ]
}