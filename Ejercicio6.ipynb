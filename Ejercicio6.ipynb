{
  "nbformat": 4,
  "nbformat_minor": 0,
  "metadata": {
    "colab": {
      "name": "Ejercicio6.ipynb",
      "provenance": [],
      "authorship_tag": "ABX9TyPyKZ1047SZE5ZuqmXmsFJ/",
      "include_colab_link": true
    },
    "kernelspec": {
      "name": "python3",
      "display_name": "Python 3"
    },
    "language_info": {
      "name": "python"
    }
  },
  "cells": [
    {
      "cell_type": "markdown",
      "metadata": {
        "id": "view-in-github",
        "colab_type": "text"
      },
      "source": [
        "<a href=\"https://colab.research.google.com/github/Jesuscua/Automatizacion_infra/blob/main/Ejercicio6.ipynb\" target=\"_parent\"><img src=\"https://colab.research.google.com/assets/colab-badge.svg\" alt=\"Open In Colab\"/></a>"
      ]
    },
    {
      "cell_type": "markdown",
      "metadata": {
        "id": "RW5fo4xwOudd"
      },
      "source": [
        "Ejercicio 6:\n",
        "\n",
        "Escribir una función que calcule el máximo común divisor de dos números y otra que calcule el mínimo común múltiplo"
      ]
    },
    {
      "cell_type": "code",
      "metadata": {
        "colab": {
          "base_uri": "https://localhost:8080/"
        },
        "id": "pdSfkIWjOq2_",
        "outputId": "ac881cd6-5c5c-4671-b153-be2e233aaee2"
      },
      "source": [
        "#Variables\n",
        "numero1 = 560\n",
        "numero2 = 890\n",
        "\n",
        "#Funciones\n",
        "def mcd(nume1,nume2):\n",
        "  while nume2 != 0:\n",
        "      temp = nume2\n",
        "      nume2 = nume1 % nume2\n",
        "      nume1 = temp\n",
        "      resultado = nume1\n",
        "  return resultado\n",
        "\n",
        "\n",
        "def mcm(nume1, nume2):\n",
        "    resultado = (nume1 * nume2) / mcd(nume1, nume2)\n",
        "    return resultado\n",
        "\n",
        "# Se imprime el resultado del MCD y MCM\n",
        "print(\"El máximo común divisor es: \",mcd(numero1,numero2))\n",
        "print(\"El minímo común multiplo es: \",mcm(numero1,numero2))"
      ],
      "execution_count": 4,
      "outputs": [
        {
          "output_type": "stream",
          "text": [
            "El maximo comun divisor es:  10\n",
            "El minimo comun multiplo es:  49840.0\n"
          ],
          "name": "stdout"
        }
      ]
    },
    {
      "cell_type": "code",
      "metadata": {
        "id": "RIBt3apGPt0b"
      },
      "source": [
        ""
      ],
      "execution_count": null,
      "outputs": []
    }
  ]
}