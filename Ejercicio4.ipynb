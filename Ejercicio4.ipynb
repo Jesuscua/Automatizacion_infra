{
  "nbformat": 4,
  "nbformat_minor": 0,
  "metadata": {
    "colab": {
      "name": "Ejercicio4.ipynb",
      "provenance": [],
      "authorship_tag": "ABX9TyMBlvUiX5qiqfC9l2H4IjIs",
      "include_colab_link": true
    },
    "kernelspec": {
      "name": "python3",
      "display_name": "Python 3"
    },
    "language_info": {
      "name": "python"
    }
  },
  "cells": [
    {
      "cell_type": "markdown",
      "metadata": {
        "id": "view-in-github",
        "colab_type": "text"
      },
      "source": [
        "<a href=\"https://colab.research.google.com/github/Jesuscua/Automatizacion_infra/blob/main/Ejercicio4.ipynb\" target=\"_parent\"><img src=\"https://colab.research.google.com/assets/colab-badge.svg\" alt=\"Open In Colab\"/></a>"
      ]
    },
    {
      "cell_type": "markdown",
      "metadata": {
        "id": "uExRecOyFuIc"
      },
      "source": [
        "Ejercicio 4:\n",
        "\n",
        "Escribir una función que reciba una muestra de números en una lista y devuelva otra lista con sus cuadrados"
      ]
    },
    {
      "cell_type": "code",
      "metadata": {
        "colab": {
          "base_uri": "https://localhost:8080/"
        },
        "id": "R9WXqf2wFqmS",
        "outputId": "d833eded-cbc6-4651-ef0e-d0f0cc3c9467"
      },
      "source": [
        "#Listas\n",
        "list1 = [100,300,123,24,85,40]\n",
        "list2 = [77,367,163,742,479]\n",
        "list3 = [57,456,198,253,79,31,58]\n",
        "\n",
        "#Funcion\n",
        "def cuadrado(lista):\n",
        "\n",
        "#Nueva lista de resultados\n",
        "  lista_cua = []\n",
        "\n",
        "#Elevado al cuadrado con for\n",
        "  for cont in lista:\n",
        "      lista_cua.append(cont**2)\n",
        "  return lista_cua\n",
        "\n",
        "#Resultados\n",
        "print(\"Los cuadrados de la lista 1 es: \" + str(cuadrado(list1)))\n",
        "print(\"Los cuadrados de la lista 2 es: \" + str(cuadrado(list2)))\n",
        "print(\"Los cuadrados de la lista 3 es: \" + str(cuadrado(list3)))"
      ],
      "execution_count": 2,
      "outputs": [
        {
          "output_type": "stream",
          "text": [
            "Los cuadrados de la lista 1 es: [10000, 90000, 15129, 576, 7225, 1600]\n",
            "Los cuadrados de la lista 2 es: [5929, 134689, 26569, 550564, 229441]\n",
            "Los cuadrados de la lista 3 es: [3249, 207936, 39204, 64009, 6241, 961, 3364]\n"
          ],
          "name": "stdout"
        }
      ]
    },
    {
      "cell_type": "code",
      "metadata": {
        "id": "PjeC7ZkEGhnR"
      },
      "source": [
        ""
      ],
      "execution_count": null,
      "outputs": []
    }
  ]
}